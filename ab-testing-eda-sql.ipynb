{
 "cells": [
  {
   "cell_type": "markdown",
   "metadata": {
    "application/vnd.databricks.v1+cell": {
     "cellMetadata": {},
     "inputWidgets": {},
     "nuid": "0896312c-349a-415a-97ab-ad61b4ffcd41",
     "showTitle": false,
     "tableResultSettingsMap": {},
     "title": ""
    }
   },
   "source": [
    "## 🧪 A/B Testing Overview\n",
    "\n",
    "### **What is A/B Testing?**\n",
    "A/B testing is an experimental method to compare two versions of something — **Variant A** (control) and **Variant B** (treatment) — to see which performs better for a specific metric.  \n",
    "In this case, we’re testing user engagement and monetization metrics for two variants.\n",
    "\n",
    "---\n",
    "\n",
    "### **Metrics in Our Test**\n",
    "- **Impressions**: Number of times an item/ad was shown.\n",
    "- **Clicks**: Number of times it was clicked.\n",
    "- **Orders**: Purchases made after clicking.\n",
    "- **Revenue**: Money earned from orders.\n",
    "\n",
    "From these raw metrics, we calculate:\n",
    "1. **Click-Through Rate (CTR)**  \n",
    "   \\[\n",
    "   CTR\\% = \\frac{\\text{Clicks}}{\\text{Impressions}} \\times 100\n",
    "   \\]\n",
    "2. **Conversion Rate**  \n",
    "   \\[\n",
    "   Conversion\\% = \\frac{\\text{Orders}}{\\text{Clicks}} \\times 100\n",
    "   \\]\n",
    "3. **Average Revenue per User (ARPU)**  \n",
    "   \\[\n",
    "   ARPU = \\frac{\\text{Revenue}}{\\text{Number of Users}}\n",
    "   \\]\n",
    "\n",
    "---\n",
    "\n",
    "### **Why Statistical Testing?**\n",
    "Raw numbers can be misleading — differences might be due to chance.  \n",
    "We use **p-values** from statistical tests to check if a difference is **statistically significant**:\n",
    "- **p < 0.05** → Significant (very unlikely to be random)\n",
    "- **p ≥ 0.05** → Not significant (could be random noise)\n",
    "\n",
    "**Tests Used Here**:\n",
    "- CTR%: Chi-square test (good for proportions/counts)\n",
    "- Conversion%: Chi-square test\n",
    "- Revenue/User: t-test (good for comparing averages)\n",
    "\n",
    "---\n",
    "\n",
    "### **Results Summary**\n",
    "| Metric             | Variant A | Variant B | p-value  | Significant? |\n",
    "|--------------------|-----------|-----------|----------|--------------|\n",
    "| CTR%               | 8.15%     | 9.67%     | 0.0000   | ✅ Yes       |\n",
    "| Conversion%        | 11.81%    | 12.71%    | 0.1565   | ❌ No        |\n",
    "| Avg Revenue/User   | $218.49   | $280.69   | 0.0000   | ✅ Yes       |\n",
    "\n",
    "---\n",
    "\n",
    "### **Conclusion**\n",
    "- Variant **B** has a significantly higher CTR and ARPU.\n",
    "- Conversion rate difference is **not statistically significant**.\n",
    "- Recommendation: **Roll out Variant B** and monitor long-term performance.\n",
    "\n",
    "---\n"
   ]
  },
  {
   "cell_type": "markdown",
   "metadata": {
    "application/vnd.databricks.v1+cell": {
     "cellMetadata": {
      "byteLimit": 2048000,
      "rowLimit": 10000
     },
     "inputWidgets": {},
     "nuid": "96816ed7-b08a-4ca3-abb9-f99880c3535d",
     "showTitle": false,
     "tableResultSettingsMap": {},
     "title": ""
    }
   },
   "source": [
    "📦 Synthetic Experiment Scenario\n",
    "Experiment:\n",
    "Testing a new ad ranking model on the Instacart homepage.\n",
    "\n",
    "Variant A (Control) → current ranking algorithm\n",
    "\n",
    "Variant B (Treatment) → new ranking algorithm\n",
    "\n",
    "Goal: Increase CTR (click-through rate) and conversion rate (orders per user), while maintaining or improving revenue.\n",
    "\n",
    "Dataset Columns:\n",
    "\n",
    "| Column        | Type   | Description                            |\n",
    "| ------------- | ------ | -------------------------------------- |\n",
    "| `user_id`     | int    | Unique shopper ID                      |\n",
    "| `variant`     | string | 'A' (control) or 'B' (treatment)       |\n",
    "| `impressions` | int    | Number of ads shown                    |\n",
    "| `clicks`      | int    | Number of ads clicked                  |\n",
    "| `orders`      | int    | Number of orders placed after clicking |\n",
    "| `revenue`     | float  | Total revenue from orders              |\n"
   ]
  },
  {
   "cell_type": "markdown",
   "metadata": {
    "application/vnd.databricks.v1+cell": {
     "cellMetadata": {
      "byteLimit": 2048000,
      "rowLimit": 10000
     },
     "inputWidgets": {},
     "nuid": "8683fce6-ff96-40a1-a0a1-f7232e4382a3",
     "showTitle": false,
     "tableResultSettingsMap": {},
     "title": ""
    }
   },
   "source": [
    "1. Load CSV File"
   ]
  },
  {
   "cell_type": "code",
   "execution_count": 0,
   "metadata": {
    "application/vnd.databricks.v1+cell": {
     "cellMetadata": {
      "byteLimit": 2048000,
      "rowLimit": 10000
     },
     "inputWidgets": {},
     "nuid": "6482be4c-f067-47c9-b0ac-35c938b94601",
     "showTitle": false,
     "tableResultSettingsMap": {},
     "title": ""
    }
   },
   "outputs": [],
   "source": [
    "df_ab = spark.read.csv(\"dbfs:/FileStore/tables/instacart/instacart_ab_test.csv\",header=True, inferSchema=True)\n",
    "\n",
    "df_ab.cache()\n",
    "_ = df_ab.count()"
   ]
  },
  {
   "cell_type": "markdown",
   "metadata": {
    "application/vnd.databricks.v1+cell": {
     "cellMetadata": {
      "byteLimit": 2048000,
      "rowLimit": 10000
     },
     "inputWidgets": {},
     "nuid": "29317eb3-725b-4e78-87d0-26e3c90e4589",
     "showTitle": false,
     "tableResultSettingsMap": {},
     "title": ""
    }
   },
   "source": [
    "2) Inspect schema + a few rows"
   ]
  },
  {
   "cell_type": "code",
   "execution_count": 0,
   "metadata": {
    "application/vnd.databricks.v1+cell": {
     "cellMetadata": {
      "byteLimit": 2048000,
      "rowLimit": 10000
     },
     "inputWidgets": {},
     "nuid": "8b62b4db-add2-4c29-9814-f618592b5bcc",
     "showTitle": false,
     "tableResultSettingsMap": {},
     "title": ""
    }
   },
   "outputs": [
    {
     "output_type": "stream",
     "name": "stdout",
     "output_type": "stream",
     "text": [
      "root\n |-- user_id: integer (nullable = true)\n |-- variant: string (nullable = true)\n |-- impressions: integer (nullable = true)\n |-- clicks: integer (nullable = true)\n |-- orders: integer (nullable = true)\n |-- revenue: double (nullable = true)\n\n+-------+-------+-----------+------+------+-------+\n|user_id|variant|impressions|clicks|orders|revenue|\n+-------+-------+-----------+------+------+-------+\n|1      |A      |7          |0     |0     |0.0    |\n|2      |B      |12         |1     |0     |0.0    |\n|3      |A      |11         |0     |0     |0.0    |\n|4      |A      |20         |2     |0     |0.0    |\n|5      |A      |20         |1     |0     |0.0    |\n|6      |B      |7          |2     |0     |0.0    |\n|7      |A      |10         |0     |0     |0.0    |\n|8      |A      |8          |1     |0     |0.0    |\n|9      |A      |15         |2     |0     |0.0    |\n|10     |B      |9          |1     |0     |0.0    |\n+-------+-------+-----------+------+------+-------+\nonly showing top 10 rows\n\n"
     ]
    }
   ],
   "source": [
    "df_ab.printSchema()\n",
    "df_ab.show(10,truncate=False)"
   ]
  },
  {
   "cell_type": "markdown",
   "metadata": {
    "application/vnd.databricks.v1+cell": {
     "cellMetadata": {
      "byteLimit": 2048000,
      "rowLimit": 10000
     },
     "inputWidgets": {},
     "nuid": "7812aa01-444b-4551-819f-b45ac6404d21",
     "showTitle": false,
     "tableResultSettingsMap": {},
     "title": ""
    }
   },
   "source": [
    "3) Register a SQL view"
   ]
  },
  {
   "cell_type": "code",
   "execution_count": 0,
   "metadata": {
    "application/vnd.databricks.v1+cell": {
     "cellMetadata": {
      "byteLimit": 2048000,
      "rowLimit": 10000
     },
     "inputWidgets": {},
     "nuid": "2d86c0a3-59a3-44f9-8570-710dbab72c29",
     "showTitle": false,
     "tableResultSettingsMap": {},
     "title": ""
    }
   },
   "outputs": [],
   "source": [
    "df_ab.createOrReplaceTempView(\"ab_test\")"
   ]
  },
  {
   "cell_type": "markdown",
   "metadata": {
    "application/vnd.databricks.v1+cell": {
     "cellMetadata": {
      "byteLimit": 2048000,
      "rowLimit": 10000
     },
     "inputWidgets": {},
     "nuid": "0824629b-6008-4d43-856d-70adb1809520",
     "showTitle": false,
     "tableResultSettingsMap": {},
     "title": ""
    }
   },
   "source": [
    "4) Basic shape & split check"
   ]
  },
  {
   "cell_type": "markdown",
   "metadata": {
    "application/vnd.databricks.v1+cell": {
     "cellMetadata": {
      "byteLimit": 2048000,
      "rowLimit": 10000
     },
     "inputWidgets": {},
     "nuid": "d9c44b22-e797-4cf5-a49c-b7449ddd0ecf",
     "showTitle": false,
     "tableResultSettingsMap": {},
     "title": ""
    }
   },
   "source": [
    "5) Quick data-quality checks (should all be zero)"
   ]
  },
  {
   "cell_type": "code",
   "execution_count": 0,
   "metadata": {
    "application/vnd.databricks.v1+cell": {
     "cellMetadata": {
      "byteLimit": 2048000,
      "implicitDf": true,
      "rowLimit": 10000
     },
     "inputWidgets": {},
     "nuid": "5c089b60-1714-44c5-867f-00b7d19f4235",
     "showTitle": false,
     "tableResultSettingsMap": {},
     "title": ""
    }
   },
   "outputs": [
    {
     "output_type": "display_data",
     "data": {
      "text/html": [
       "<style scoped>\n",
       "  .table-result-container {\n",
       "    max-height: 300px;\n",
       "    overflow: auto;\n",
       "  }\n",
       "  table, th, td {\n",
       "    border: 1px solid black;\n",
       "    border-collapse: collapse;\n",
       "  }\n",
       "  th, td {\n",
       "    padding: 5px;\n",
       "  }\n",
       "  th {\n",
       "    text-align: left;\n",
       "  }\n",
       "</style><div class='table-result-container'><table class='table-result'><thead style='background-color: white'><tr><th>bad_clicks</th></tr></thead><tbody><tr><td>0</td></tr></tbody></table></div>"
      ]
     },
     "metadata": {
      "application/vnd.databricks.v1+output": {
       "addedWidgets": {},
       "aggData": [],
       "aggError": "",
       "aggOverflow": false,
       "aggSchema": [],
       "aggSeriesLimitReached": false,
       "aggType": "",
       "arguments": {},
       "columnCustomDisplayInfos": {},
       "data": [
        [
         0
        ]
       ],
       "datasetInfos": [],
       "dbfsResultPath": null,
       "isJsonSchema": true,
       "metadata": {},
       "overflow": false,
       "plotOptions": {
        "customPlotOptions": {},
        "displayType": "table",
        "pivotAggregation": null,
        "pivotColumns": null,
        "xColumns": null,
        "yColumns": null
       },
       "removedWidgets": [],
       "schema": [
        {
         "metadata": "{}",
         "name": "bad_clicks",
         "type": "\"long\""
        }
       ],
       "type": "table"
      }
     },
     "output_type": "display_data"
    }
   ],
   "source": [
    "%sql\n",
    "-- clicks should never exceed impressions\n",
    "SELECT COUNT(*) AS bad_clicks\n",
    "FROM ab_test\n",
    "WHERE clicks > impressions;\n"
   ]
  },
  {
   "cell_type": "code",
   "execution_count": 0,
   "metadata": {
    "application/vnd.databricks.v1+cell": {
     "cellMetadata": {
      "byteLimit": 2048000,
      "implicitDf": true,
      "rowLimit": 10000
     },
     "inputWidgets": {},
     "nuid": "bd69a0e8-c70e-4daa-a2e9-8cff6017a524",
     "showTitle": false,
     "tableResultSettingsMap": {},
     "title": ""
    }
   },
   "outputs": [
    {
     "output_type": "display_data",
     "data": {
      "text/html": [
       "<style scoped>\n",
       "  .ansiout {\n",
       "    display: block;\n",
       "    unicode-bidi: embed;\n",
       "    white-space: pre-wrap;\n",
       "    word-wrap: break-word;\n",
       "    word-break: break-all;\n",
       "    font-family: \"Menlo\", \"Monaco\", \"Consolas\", \"Ubuntu Mono\", \"Source Code Pro\", monospace;\n",
       "    font-size: 13px;\n",
       "    color: #555;\n",
       "    margin-left: 4px;\n",
       "    line-height: 19px;\n",
       "  }\n",
       "</style>"
      ]
     },
     "metadata": {
      "application/vnd.databricks.v1+output": {
       "arguments": {},
       "data": "",
       "errorSummary": "Cancelled",
       "errorTraceType": "html",
       "metadata": {},
       "type": "ipynbError"
      }
     },
     "output_type": "display_data"
    }
   ],
   "source": [
    "%sql\n",
    "\n",
    "-- orders should never exceed clicks\n",
    "SELECT COUNT(*) AS bad_orders\n",
    "FROM ab_test\n",
    "WHERE orders > clicks;\n",
    "\n",
    "\n"
   ]
  },
  {
   "cell_type": "code",
   "execution_count": 0,
   "metadata": {
    "application/vnd.databricks.v1+cell": {
     "cellMetadata": {
      "byteLimit": 2048000,
      "implicitDf": true,
      "rowLimit": 10000
     },
     "inputWidgets": {},
     "nuid": "9741cf3d-fe68-4f31-8de9-73a3acf8cb37",
     "showTitle": false,
     "tableResultSettingsMap": {},
     "title": ""
    }
   },
   "outputs": [
    {
     "output_type": "display_data",
     "data": {
      "text/html": [
       "<style scoped>\n",
       "  .ansiout {\n",
       "    display: block;\n",
       "    unicode-bidi: embed;\n",
       "    white-space: pre-wrap;\n",
       "    word-wrap: break-word;\n",
       "    word-break: break-all;\n",
       "    font-family: \"Menlo\", \"Monaco\", \"Consolas\", \"Ubuntu Mono\", \"Source Code Pro\", monospace;\n",
       "    font-size: 13px;\n",
       "    color: #555;\n",
       "    margin-left: 4px;\n",
       "    line-height: 19px;\n",
       "  }\n",
       "</style>"
      ]
     },
     "metadata": {
      "application/vnd.databricks.v1+output": {
       "arguments": {},
       "data": "",
       "errorSummary": "Command skipped",
       "errorTraceType": "html",
       "metadata": {},
       "type": "ipynbError"
      }
     },
     "output_type": "display_data"
    }
   ],
   "source": [
    "%sql\n",
    "-- any nulls?\n",
    "SELECT\n",
    "  SUM(CASE WHEN user_id IS NULL THEN 1 ELSE 0 END) AS null_user_id,\n",
    "  SUM(CASE WHEN variant IS NULL THEN 1 ELSE 0 END) AS null_variant,\n",
    "  SUM(CASE WHEN impressions IS NULL THEN 1 ELSE 0 END) AS null_impressions,\n",
    "  SUM(CASE WHEN clicks IS NULL THEN 1 ELSE 0 END) AS null_clicks,\n",
    "  SUM(CASE WHEN orders IS NULL THEN 1 ELSE 0 END) AS null_orders,\n",
    "  SUM(CASE WHEN revenue IS NULL THEN 1 ELSE 0 END) AS null_revenue\n",
    "FROM ab_test;\n"
   ]
  },
  {
   "cell_type": "markdown",
   "metadata": {
    "application/vnd.databricks.v1+cell": {
     "cellMetadata": {
      "byteLimit": 2048000,
      "rowLimit": 10000
     },
     "inputWidgets": {},
     "nuid": "42618a6b-6f44-44c4-aaf1-277e7706ed86",
     "showTitle": false,
     "tableResultSettingsMap": {},
     "title": ""
    }
   },
   "source": [
    "6. Quick Numeric Summary"
   ]
  },
  {
   "cell_type": "code",
   "execution_count": 0,
   "metadata": {
    "application/vnd.databricks.v1+cell": {
     "cellMetadata": {
      "byteLimit": 2048000,
      "rowLimit": 10000
     },
     "inputWidgets": {},
     "nuid": "50a9ad4f-faa3-414e-b8bc-fb8386c7d079",
     "showTitle": false,
     "tableResultSettingsMap": {},
     "title": ""
    }
   },
   "outputs": [
    {
     "output_type": "display_data",
     "data": {
      "text/html": [
       "<style scoped>\n",
       "  .ansiout {\n",
       "    display: block;\n",
       "    unicode-bidi: embed;\n",
       "    white-space: pre-wrap;\n",
       "    word-wrap: break-word;\n",
       "    word-break: break-all;\n",
       "    font-family: \"Menlo\", \"Monaco\", \"Consolas\", \"Ubuntu Mono\", \"Source Code Pro\", monospace;\n",
       "    font-size: 13px;\n",
       "    color: #555;\n",
       "    margin-left: 4px;\n",
       "    line-height: 19px;\n",
       "  }\n",
       "</style>"
      ]
     },
     "metadata": {
      "application/vnd.databricks.v1+output": {
       "arguments": {},
       "data": "",
       "errorSummary": "Command skipped",
       "errorTraceType": "html",
       "metadata": {},
       "type": "ipynbError"
      }
     },
     "output_type": "display_data"
    }
   ],
   "source": [
    "display(df_ab.describe([\"impressions\",\"clicks\",\"orders\",\"revenue\"]))\n"
   ]
  },
  {
   "cell_type": "markdown",
   "metadata": {
    "application/vnd.databricks.v1+cell": {
     "cellMetadata": {
      "byteLimit": 2048000,
      "rowLimit": 10000
     },
     "inputWidgets": {},
     "nuid": "73806791-cbe4-4cfe-8539-025c126b75d6",
     "showTitle": false,
     "tableResultSettingsMap": {},
     "title": ""
    }
   },
   "source": [
    "Clean and Calculate A/B Metrics"
   ]
  },
  {
   "cell_type": "markdown",
   "metadata": {
    "application/vnd.databricks.v1+cell": {
     "cellMetadata": {
      "byteLimit": 2048000,
      "rowLimit": 10000
     },
     "inputWidgets": {},
     "nuid": "733bb094-ba04-4dc0-b2af-156477e73675",
     "showTitle": false,
     "tableResultSettingsMap": {},
     "title": ""
    }
   },
   "source": [
    "1) Create a clean dataset view"
   ]
  },
  {
   "cell_type": "code",
   "execution_count": 0,
   "metadata": {
    "application/vnd.databricks.v1+cell": {
     "cellMetadata": {
      "byteLimit": 2048000,
      "implicitDf": true,
      "rowLimit": 10000
     },
     "inputWidgets": {},
     "nuid": "0bd11e4f-6a8e-46df-b1a4-d05b55920013",
     "showTitle": false,
     "tableResultSettingsMap": {},
     "title": ""
    }
   },
   "outputs": [
    {
     "output_type": "display_data",
     "data": {
      "text/html": [
       "<style scoped>\n",
       "  .ansiout {\n",
       "    display: block;\n",
       "    unicode-bidi: embed;\n",
       "    white-space: pre-wrap;\n",
       "    word-wrap: break-word;\n",
       "    word-break: break-all;\n",
       "    font-family: \"Menlo\", \"Monaco\", \"Consolas\", \"Ubuntu Mono\", \"Source Code Pro\", monospace;\n",
       "    font-size: 13px;\n",
       "    color: #555;\n",
       "    margin-left: 4px;\n",
       "    line-height: 19px;\n",
       "  }\n",
       "</style>"
      ]
     },
     "metadata": {
      "application/vnd.databricks.v1+output": {
       "arguments": {},
       "data": "",
       "errorSummary": "Command skipped",
       "errorTraceType": "html",
       "metadata": {},
       "type": "ipynbError"
      }
     },
     "output_type": "display_data"
    }
   ],
   "source": [
    "%sql\n",
    "CREATE OR REPLACE TEMP VIEW ab_test_clean AS\n",
    "SELECT *\n",
    "FROM ab_test\n",
    "WHERE clicks <= impressions\n",
    "  AND orders <= clicks;\n"
   ]
  },
  {
   "cell_type": "markdown",
   "metadata": {
    "application/vnd.databricks.v1+cell": {
     "cellMetadata": {
      "byteLimit": 2048000,
      "rowLimit": 10000
     },
     "inputWidgets": {},
     "nuid": "eea33fb8-556e-486c-9a45-e56f5b196f28",
     "showTitle": false,
     "tableResultSettingsMap": {},
     "title": ""
    }
   },
   "source": [
    "2) Compute metrics for Variant A vs Variant B"
   ]
  },
  {
   "cell_type": "code",
   "execution_count": 0,
   "metadata": {
    "application/vnd.databricks.v1+cell": {
     "cellMetadata": {
      "byteLimit": 2048000,
      "implicitDf": true,
      "rowLimit": 10000
     },
     "inputWidgets": {},
     "nuid": "da84cab9-b1e2-4af2-a905-c916ff753f33",
     "showTitle": false,
     "tableResultSettingsMap": {},
     "title": ""
    }
   },
   "outputs": [
    {
     "output_type": "display_data",
     "data": {
      "text/html": [
       "<style scoped>\n",
       "  .ansiout {\n",
       "    display: block;\n",
       "    unicode-bidi: embed;\n",
       "    white-space: pre-wrap;\n",
       "    word-wrap: break-word;\n",
       "    word-break: break-all;\n",
       "    font-family: \"Menlo\", \"Monaco\", \"Consolas\", \"Ubuntu Mono\", \"Source Code Pro\", monospace;\n",
       "    font-size: 13px;\n",
       "    color: #555;\n",
       "    margin-left: 4px;\n",
       "    line-height: 19px;\n",
       "  }\n",
       "</style>"
      ]
     },
     "metadata": {
      "application/vnd.databricks.v1+output": {
       "arguments": {},
       "data": "",
       "errorSummary": "Command skipped",
       "errorTraceType": "html",
       "metadata": {},
       "type": "ipynbError"
      }
     },
     "output_type": "display_data"
    }
   ],
   "source": [
    "%sql\n",
    "select\n",
    "  variant,\n",
    "  count(*) as users,\n",
    "  sum(impressions) as total_impressions,\n",
    "  sum(clicks) as total_clicks,\n",
    "  sum(orders) as total_orders,\n",
    "  sum(revenue) as total_revenue,\n",
    "  round(sum(clicks) * 100.0 / sum(impressions),2) as ctr_percent,\n",
    "  round(sum(orders) * 100.0 / sum(clicks),2) as conversion_percent,\n",
    "  round(sum(revenue) * 100.0 / count(*), 2) as average_revenue_per_user\n",
    "  from ab_test_clean\n",
    "  group by variant\n",
    "  order by variant"
   ]
  },
  {
   "cell_type": "markdown",
   "metadata": {
    "application/vnd.databricks.v1+cell": {
     "cellMetadata": {
      "byteLimit": 2048000,
      "rowLimit": 10000
     },
     "inputWidgets": {},
     "nuid": "4b717966-944f-47e1-aaeb-e3b8d45342d9",
     "showTitle": false,
     "tableResultSettingsMap": {},
     "title": ""
    }
   },
   "source": [
    "Step 3 — Visualize & Test Significance (Python in Databricks)\n"
   ]
  },
  {
   "cell_type": "code",
   "execution_count": 0,
   "metadata": {
    "application/vnd.databricks.v1+cell": {
     "cellMetadata": {
      "byteLimit": 2048000,
      "rowLimit": 10000
     },
     "inputWidgets": {},
     "nuid": "0120b980-8006-4d2b-adb4-164c704ce9b1",
     "showTitle": false,
     "tableResultSettingsMap": {},
     "title": ""
    }
   },
   "outputs": [
    {
     "output_type": "display_data",
     "data": {
      "image/png": "[encoded data removed]"
     },
     "metadata": {
      "application/vnd.databricks.v1+output": {
       "addedWidgets": {},
       "arguments": {},
       "data": "data:image/png;base64,iVBORw0KGgoAAAANSUhEUgAABDAAAAFgCAYAAABNIolGAAAAOXRFWHRTb2Z0d2FyZQBNYXRwbG90bGliIHZlcnNpb24zLjUuMSwgaHR0cHM6Ly9tYXRwbG90bGliLm9yZy/YYfK9AAAACXBIWXMAAAsTAAALEwEAmpwYAAA2wklEQVR4nO3dd5glZZn38e8PBgQEQZYRCQOjwuq6rnGMGFAMyCKg6ypjjqOurrK6umZ9zWnXsGAYBUFFUBEUXURQQdRVdAirBAOKAgIygGSUdL9/VA0cmk4z032qus/3c13n6lNP1Xnqrg73qb7PU0+lqpAkSZIkSeqzdboOQJIkSZIkaSoWMCRJkiRJUu9ZwJAkSZIkSb1nAUOSJEmSJPWeBQxJkiRJktR7FjAkSZIkSVLvWcCQOpDkjUk+03UckrRKkm8leW7XcegWST6Z5C1dxyFJUl9YwNCMSvKMJCuSXJXkgvaE+OHtSdhV7eO6JNcPLH8ryeIkNdD2+ySvn2JfSfLKJKcluTrJeUm+kuQfhnW8a6qq3lNVL+o6DkkzZ6L813Vc01VVT6yqg2a63yQHtnn/qiSXJjk2yT2m+dpV7w0L1mL/6yd5e5LftO8Vv09yQJLFa9rnsFTVS6vqnV3HIekWSY5P8uckt5vF/v/S5syLkxyeZKvZ2Nd81Ob4x45pe16SH3YVk2aWBQzNmCSvBj4CvAfYEtgO+DiwZ3sStnFVbdyu/9Kq5ap64kA3m7XbPBV4S5LHTbLLjwKvAl4JbA78LfA14B9n9shm1tqciEvqp8nyX4dh3UrHuecDbW7fBvgjsP8Q930YsAfwDGBT4D7AScAuQ4xhtSVZt+sYJN1aW/h8BFA0eWW2vKLNmTsAGwMfmsV9zVld5knP57tjAUMzIsmmwDuAl1fV4VV1dVVdX1XfqKrXrm5/VbUCOB247wT72xF4ObC0qr5XVX+tqmuq6uCqet+qmJJ8LsnKJH9I8uYk67TrnpfkR0k+nOSyJL9L8rC2/dwkFw0OpW4/Qfxk+8nhlUm+n2T7gfUfbV93RZKTkjxiYN3bkxyW5AtJrgCe17Z9oV2/QbvukjaWnyXZsl23dZIj208tz0ry4jH9frk9xiuTnJ5kyep+ryWtnenkvyS3S/KRJOe3j4+s+vQuyc7tCLLXtLnngiTPb9c9OMmFgydpSZ6c5Oft83WSvD7Jb9sc8uUkm7frVo1eeGGSc4DvTZFvjk/yooF+39zmzovaPLPpmH6fm+Sc9hPCN03ne1VV1wJfZiC3J/nHJKe0+fPcJG8feMkJ7dfL2k8jH9q+5gVJzkzzKei3B/PxmJ/NY4HH0RTSf1ZVN1TV5VW1X1Xt324zVZ79Svs9uzLJL5L8bZI3tN+Xc5M8fmD745O8N8lP2+P5+qqfR7v+K+3P8/IkJyT5+4F1Byb5RJKjklwNPLpte1e7fosk32x/bpcm+UFueU/7u3bfl7XvBXuM6Xe/JP/THsOJSe42nZ+XpNt4DvAT4EDguXBzfr8syb1WbZRkYZJrk9ypXX5dm9vPT/KiNofuMNXOquoymg/n7jvQ9z3SnI9emuRXSZ7Wts/E+8W4eX0wF7XLOyc5b2B56yRfTXPOfXaSV050TJn6nHrc4xt47a3y5FTfw3H2P9n74KZJ9m9/Vn9M8q5V38/c+n+HS4C3r+6+NTMsYGimPBTYADhiJjpL8hDgXsBZE2yyC3BeVf10km7+m+bTtrsCj6J503n+wPoHAz8H/gb4InAo8ECaavezgH2TbDyw/TOBdwJbAKcCBw+s+xnNm8vmbV9fSbLBwPo9aT4F3GzM66B5A9wUWNTG8lLg2nbdocB5wNY0o1Lek+QxA6/do91mM+BIYN+Jvx2SZsl08t+bgIfQ5In7AA8C3jyw/s40eWAb4IXAfknuWFUnAlcDg3/3z6DJMwD/CuxFk+O2Bv4M7Ddm348C/g54ApPnm0HPax+PpsmhG3Pb/PJw4O40+fitSf5ukuMHIMntgaXcOrdfTZOfN6MZQfeyJHu16x7Zft2sHbH34yR7Am8EngIsBH4AHDLBLh8L/LSqzp0krKny7JOAzwN3BE4Bvk1z/rQNTeHqU2P6ew7wAmAr4AbgYwPrvgXsCNwJOJnbvh88A3g3sAkwdrjza9o4F9KM8nkjUEnWA74BHNP2+6/AwUnuPvDavYH/1x7DWe0+JK2+59D83R4MPCHJllX1V+Bwmty2ytOA71fVRUl2BV5Nk492AHae7s6S/A1NrjurXb49cCzNe8CdaP62P57knjP0frEmeX0dmhz0fzR5cRdgnyRPmORl455TT3Z8Y45pojw5HZO9Dx5Ik7d3AO4HPB4YvOT7wcDvaHKwebQrVeXDx1o/aBLRhdPc9u3AF8a0LaYZjncZTRIpmuFymaCPNwE/mWQf6wLXAfccaHsJcHz7/HnAbwbW/UO7zy0H2i4B7ts+PxA4dGDdxsCNwKIJ9v9n4D4Dx3vCRN8DmhPd/wXuPWabRe0+Nhloey9w4EAf3xlYd0/g2q5/F3z4GLXHdPIf8Ftgt4HlJwC/b5/v3Oa9BQPrLwIe0j5/F3BA+3wTmhPU7dvlM4FdBl63FXA9sGAgr951YP24+aZddzzwovb5d4F/GVh393H63XZg/U+BvSc49gOBv7T5/Sbg7PH2P7D9R4APt89X7Wvwe/Mt4IUDy+sA16z6nozp69ODuXuc9dPJs8cOrHsScBWw7sDPo2gKLKu+h+8b2P6eNO9F646z783a12468H363Djfu3e1z98BfB3YYcw2jwAuBNYZaDsEePtAH58ZWLcb8Muu/258+JhrD5p/7q8HtmiXfwn8W/v8scBvB7b9EfCc9vkBwHsH1u3Q/u3vMMF+jm9z2uXtdqcC27Xrng78YMz2nwLe1j5f2/eLcfP6YC5ql3em+SARmn/qzxkT0xuAz05wfAcywTn1NI7vNnlynP5/Dzx2TNvzgB+2zyc6794S+Cuw4UDbUuC4gT7OmWzfPobzcASGZsolwBZZ++vBtqBJZK+hSY7rTbK/ySY02qJ97R8G2v5AUxle5U8Dz68FqKqxbYMjMG7+BK+qrgIupalgk+Tf0wxnvjzJZTSV3S3Ge+04Pk/zid6h7dDCD7SfqG0NXFpVV05yDBcOPL8G2GAGfgaSVs908t/W3DYfbT3YR1XdMLB8Dbfkny8CT0lzyclTgJOralVf2wNHtMNgL6M5Qb2R5kRslcH8M1G+mU68C8b0Ozb/DObLsT5UVZvRnCRfS1MQAW4e9nxcO/T4cppPw7YYt5fG9sBHB475UiDcOjeuMtV7xXTy7Nj3hYur6saBZZjgvaLtaz2a3491k7yvHb59Bc1JNkz/veKDNJ/CHpPmssdVE11vDZxbVTdNcgyr87OSNL7nAsdU1cXt8hfbNoDjgI3afLaYZrTdqlF5W3Prv+3J/s5XeWVVbQrcm2bk1LZt+/bAg1flvzYHPpNmFN+qmNbm/WJNcsX2wNZjYnrjmH7Hmuiceqrju9VrJ3ADt/3/YT2aYg1M/D64fbvdBQP7/hTNSJDp7ltDYAFDM+XHNFXLvda2o6q6sar+i+YTu3+ZYLPvAttm4jkfLqZJVNsPtG1HM3ncmlq06kl7acnmwPlp5rt4Hc1wwTu2J+mX05xQr1ITdVrNtfL/r6ruCTwM2J1miOL5wOZJNpnBY5A086aT/87ntvno/Ol0XlVn0PxD+kRuPRwYmpOpJ1bVZgOPDapqME/UQF8T5ZvpxHsDt/5nfrVV1Tk0ky9/NMmGbfMXaS6BW9SesH+SW/LneLnzXOAlY455w6r633G2/Q7woCTbjrMOZifPLhp4vh3Ne9HFND+7PWk+qd2UppgD03+vuLKqXlNVd6W5fPDVSXZpj2FRO4x7po5B0oA2Xz0NeFSaeSYuBP4NuE+S+7RFzS/TfGK/FPjmQGH0Am4pQMCtc8SkquoXNKMq9ksSmvz3/TH5b+Oqelm7/dq+X0zkamCjgeWxBYWzx/S7SVXtNkl/455TT3V8q74tU8R6Drfk11XuQluUn+R98Fya9/ItBvZ9h6r6+4F+ptq3hsAChmZEVV0OvJUmwe6VZKMk6yV5YpIPrGG37wNeN2YuiVX7+w3NDP+HpJlIaP12Up69k7x+4I3k3Uk2aScHejXwhTWMBWC3NLeEXZ/mur2fVHNd9SY0J/YrgQVJ3grcYbqdJnl0kn9oJwm6guZk96a27/8F3tse271pro1fm2OQNMOmmf8OAd6cZmK3LdrtV+dv+Ys0//g/EvjKQPsnafLc9nDzxHF7TtTJRPlmnE0PAf4tyV3ak8tVd4+6YZxtV0tVHUtzorqsbdqEZhTEX5I8iOake5WVbXx3HWj7JPCGtBNgppl07Z8n2Nd3aK6nPiLJA5IsaN8TXprkBbOUZ5+V5J5JNqK57OOw9j1pE5qT40to/hF4z+p0mmT3JDu0/8RcTvPJ6U3AiTSflL6u/b3bmeZSl0PX4hgk3dpeNH9z96QZXXFfmrmFfsAtReAv0lwC8UxuXTj4MvD8NJPtbgS8ZTX3fRDNaIY9gG8Cf5vk2e3f+3pJHphbz1UxI+8XY5xKcx68eZI7A/sMrPspcGWS/0iyYTva7F5JHjhJfxOdU0/n+KbyJZo5OO6RxhKay0YObY97ovPuC2jmEvrPJHdIM+np3ZI8ajX2rSGwgKEZU1X/SVMkeDPNSee5wCtoZk9eE/9DM5fEiydY/0qaSeX2o7m2+rfAk2kmEoJmsqKraSbb+SFNQj9gDWOhff3baIa5PYBmok9ohqEdDfyaprr7F1ZviNmdaSb4vIJmON/3aYa3QVPFX0xzsn8EzTWA31mLY5A0C6aR/94FrKCZOPgXNBM4vus2HU3sEJqJ1743MHwZmttJH0lzWcGVNLPjP3iSfibLN4MOaNtPoJmz4i80OXWmfJDmH+7b0Yy0e0cb/1tpTvYBqKpraCZK+1E7pPchVXUE8H6a4b9XAKfRfNo4kacCR9Gc1F7ebr+EZnQGzHye/TzNddoX0kzuumo2/s/RvEf8ETiD5me1OnZsY76KZtTPx6vquKq6jqZg8USakR4fp7n2/pdrcQySbu25NHM6nFNVF6560JyHPjPJgrplEs2taebqAaCqvkUzme9xNJeBrfrb/+t0dtz+jX8UeEs7quPxNJNbnk+TZ94P3G7gJTP1fjHo8zSTdP6e5p/8Lw3EdyPNKIb70rxfXAx8hmak2UTGPaee5vFN5dPAZ2n+H7icJve+qaqObtdP9j74HGB9mhz953a7yS5DVAdS5UgYaSpJDqSZrOjNU20rSRpNSY6nmaD5M13HIqmf2tEEpwG3m4lRbXON59RaW47AkCRJkqRZkuTJSW6X5I40Iwq+MYrFC2kmWMCQJEmSpNnzEprbY/+WZi6Nl02+uaSJeAmJJEmSJEnqPUdgSJIkSZKk3lvQdQDTscUWW9TixYu7DkOSZsxJJ510cVUt7DqONWFOljTfzOWcDOZlSfPPRHl5ThQwFi9ezIoVK7oOQ5JmTJI/dB3DmjInS5pv5nJOBvOypPlnorw8a5eQJDkgyUVJThto2zzJsUl+036942ztX5IkSZIkzR+zOQfGgcCuY9peD3y3qnYEvtsuS5IkSZIkTWrWChhVdQJw6ZjmPYGD2ucHAXvN1v4lSZIkSdL8Mey7kGxZVRe0zy8EtpxowyTLkqxIsmLlypXDiU6SJEmSJPVSZ7dRraoCapL1y6tqSVUtWbhwzk4KLUmSJEmSZsCwCxh/SrIVQPv1oiHvX5IkSZIkzUHDLmAcCTy3ff5c4OtD3r8kSZIkSZqDZvM2qocAPwbunuS8JC8E3gc8LslvgMe2y5IkSZIkSZNaMFsdV9XSCVbtMlv7lCRJkiRJ81Nnk3hKkiRJkiRNlwUMSZIkSZLUexYwJEmSJElS783aHBh98YiXvLPrEDREP/jUW7oOQdIUzMujxbws9Zs5ebSYkzXXOQJDkiRJkiT1ngUMSZIkSZLUexYwJEmSJElS71nAkCRJkiRJvWcBQ5IkSZIk9Z4FDEmSJEmS1HsWMCRJkiRJUu9ZwJAkSZIkSb1nAUOSJEmSJPWeBQxJkiRJktR7FjAkSZIkSVLvWcCQJEmSJEm9ZwFDkkZEkgOSXJTktIG2Dyb5ZZKfJzkiyWYdhihJkiRNyAKGJI2OA4Fdx7QdC9yrqu4N/Bp4w7CDkiRJkqbDAoYkjYiqOgG4dEzbMVV1Q7v4E2DboQcmSZIkTYMFDEnSKi8AvjXeiiTLkqxIsmLlypVDDkuSJEmygCFJApK8CbgBOHi89VW1vKqWVNWShQsXDjc4SZIkCVjQdQCSpG4leR6wO7BLVVXH4UiSJEnjsoAhSSMsya7A64BHVdU1XccjSZIkTcQChiSNiCSHADsDWyQ5D3gbzV1HbgccmwTgJ1X10s6ClGbQ4w/1pjqj5Ji939t1CJKkWWYBQ5JGRFUtHad5/6EHIkmSJK0BJ/GUJEmSJEm9ZwFDkiRJkiT1ngUMSZIkSZLUexYwJEmSJElS71nAkCRJkiRJvWcBQ5IkSRqCJIuSHJfkjCSnJ3nVONvsnOTyJKe2j7d2Eask9ZG3UZUkSZKG4wbgNVV1cpJNgJOSHFtVZ4zZ7gdVtXsH8UlSrzkCQ5IkSRqCqrqgqk5un18JnAls021UkjR3WMCQJEmShizJYuB+wInjrH5okv9L8q0kfz/cyCSpv7yERJIkSRqiJBsDXwX2qaorxqw+Gdi+qq5KshvwNWDHcfpYBiwD2G677WY3YEnqCUdgSJIkSUOSZD2a4sXBVXX42PVVdUVVXdU+PwpYL8kW42y3vKqWVNWShQsXznrcktQHFjAkSZKkIUgSYH/gzKr6rwm2uXO7HUkeRHO+fsnwopSk/vISEkmSJGk4dgKeDfwiyalt2xuB7QCq6pPAU4GXJbkBuBbYu6qqg1glqXcsYEiSJElDUFU/BDLFNvsC+w4nIkmaW7yERJIkSZIk9Z4FDEmSJEmS1HsWMCRJkiRJUu9ZwJAkSZIkSb1nAUOSJEmSJPWeBQxJkiRJktR7FjAkSZIkSVLvWcCQJEmSJEm9t6DrAKT54vGHvqHrEDREx+z93q5DkCRJkkZKJyMwkvxbktOTnJbkkCQbdBGHJEmSJEmaG4ZewEiyDfBKYElV3QtYF9h72HFIkiRJkqS5o6s5MBYAGyZZAGwEnN9RHJIkSZIkaQ4YegGjqv4IfAg4B7gAuLyqjhm7XZJlSVYkWbFy5cphhylJkiRJknqki0tI7gjsCdwF2Bq4fZJnjd2uqpZX1ZKqWrJw4cJhhylJkiRJknqki0tIHgucXVUrq+p64HDgYR3EIUmSJEmS5oguChjnAA9JslGSALsAZ3YQhyRJkiRJmiO6mAPjROAw4GTgF20My4cdhyRJkiRJmjsWdLHTqnob8LYu9i1JkiRJkuaerm6jKkmSJEmSNG0WMCRJkiRJUu9ZwJCkEZHkgCQXJTltoG3zJMcm+U379Y5dxihJkiRNxAKGJI2OA4Fdx7S9HvhuVe0IfLddliRJknrHAoYkjYiqOgG4dEzznsBB7fODgL2GGZMkSZI0XRYwJGm0bVlVF7TPLwS2HG+jJMuSrEiyYuXKlcOLTpIkSWpZwJAkAVBVBdQE65ZX1ZKqWrJw4cIhRyZJkiRZwJCkUfenJFsBtF8v6jgeSZIkaVwLug5AktSpI4HnAu9rv36923AkSdJ89PhD39B1CBqiY/Z+76z06wgMSRoRSQ4BfgzcPcl5SV5IU7h4XJLfAI9tlyVJkqTecQSGJI2Iqlo6wapdhhqIJEmStAYcgSFJkiRJknrPAoYkSZIkSeo9CxiSJEmSJKn3LGBIkiRJkqTes4AhSZIkSZJ6zwKGJEmSJEnqPQsYkiRJkiSp9yxgSJIkSZKk3rOAIUmSJEmSes8ChiRJkiRJ6j0LGJIkSZIkqfcsYEiSJEmSpN6zgCFJkiQNQZJFSY5LckaS05O8apxtkuRjSc5K8vMk9+8iVknqowVdByBJkiSNiBuA11TVyUk2AU5KcmxVnTGwzROBHdvHg4FPtF8laeQ5AkOSJEkagqq6oKpObp9fCZwJbDNmsz2Bz1XjJ8BmSbYacqiS1EsWMCRJkqQhS7IYuB9w4phV2wDnDiyfx22LHCRZlmRFkhUrV66ctTglqU8sYEiSJElDlGRj4KvAPlV1xZr0UVXLq2pJVS1ZuHDhzAYoST1lAUOSJEkakiTr0RQvDq6qw8fZ5I/AooHlbds2SRp5FjAkSZKkIUgSYH/gzKr6rwk2OxJ4Tns3kocAl1fVBUMLUpJ6zLuQSJIkScOxE/Bs4BdJTm3b3ghsB1BVnwSOAnYDzgKuAZ4//DAlqZ8sYEiSJElDUFU/BDLFNgW8fDgRSdLc4iUkkiRJkiSp9yxgSJIkSZKk3rOAIUmSJE1TknWSPKzrOCRpFFnAkCRJkqapqm4C9us6DkkaRRYwJEmSpNXz3ST/1N4WVZI0JBYwJEmSpNXzEuArwHVJrkhyZZIrug5KkuY7b6MqSZIkrYaq2qTrGCRpFDkCQ5IkSVoNaTwryVva5UVJHtR1XJI031nAkCRJklbPx4GHAs9ol6/CiT0ladZ5CYkkSZK0eh5cVfdPcgpAVf05yfpdByVJ850FDEmaY5KsA9wH2Bq4Fjitqi7qNipJGinXJ1kXKIAkC4Gbug1JkuY/CxiSNEckuRvwH8Bjgd8AK4ENgL9Ncg3wKeCgqvIkWpJm18eAI4A7JXk38FTgzd2GJEnznwUMSZo73gV8AnhJVdXgiiR3orkW+9nAQR3EJkkjo6oOTnISsAsQYK+qOrPjsCRp3rOAIUlzRFUtnWTdRcBHhheNJI2udkTc2VW1X5KdgccluaCqLus0MEma57wLiSTNUUl2SPKFJF9N8tC17Ovfkpye5LQkhyTZYKbilKR56KvAjUl2oLl8bxHwxW5DkqT5zwKGJM0R4xQV3gm8AdiH5tKSNe13G+CVwJKquhewLrD3mvYnSSPgpqq6AXgKsG9VvRbYquOYJGne66SAkWSzJIcl+WWSM9f2k0NJGhHfSPKcgeXrgcXA9sCNa9n3AmDDJAuAjYDz17I/SZrPrk+yFHgO8M22bb0O45GkkdDVCIyPAkdX1T1obgXopEeSNLVdgTskOTrJI4F/B54APBl45pp2WlV/BD4EnANcAFxeVccMbpNkWZIVSVasXLlyjQ9AkuaJ5wMPBd5dVWcnuQvw+Y5jkqR5b+gFjCSbAo8E9geoquuc8EiSplZVN1bVvsDTgT1oisGfrarXVNUv17TfJHcE9gTuAmwN3D7Js8bse3lVLamqJQsXLlzzg5CkeaCqzqiqV1bVIe3y2VX1/q7jkqT5rou7kNwFWAl8Nsl9gJOAV1XV1R3EIklzRpIHA68FrgPeA1wLvDvJH4F3rkUx+LE0s+mvbPdzOPAw4AtrHbQkzSNJfgEM3sa6gIuB44APVdVfOglMkkZEFwWMBcD9gX+tqhOTfBR4PfCWwY2SLAOWAWy33XZDD1KSeuhTwG7AxjQjL3YC9k7yKOBLNJeTrIlzgIck2YimKLILsGIG4pWk+Wb3cdo2B54L/Dfw4uGGI0mjpYsCxnnAeVV1Yrt8GE0B41aqajmwHGDJkiU1dr0kjaAbaCbtvD3NKAwAqur7wPfXtNO2mHwYcHK7j1No868k6RZV9Ydxmv8AnJLklGHHI0mjZugFjKq6MMm5Se5eVb+i+aTvjGHHIUlz0DOAl9AUL54zxbarpareBrxtJvuUpBHT1eT4kjQyuhiBAfCvwMFJ1gd+RzOTsyRpcr+pqtdMtkGSVJWj1iRpFiS5/zjNdwSeBZww5HAkaeR0UsCoqlOBJV3sW5LmsOOSfBX4elWds6qxLQY/nOYa7OOAA7sJT5Lmvf8cs1zAJcDxeOmdJM26rkZgSJJW367AC4BDktwFuAzYAFgXOAb4SFV5DbYkzZ43AT92pJskdcMChiTNEe3t+T4OfDzJesAWwLVrcftUSdLqeTawb5JfA0cDR1fVhR3HJEkjwwKGJM1BVXU9cEHXcUjSKKmqlwEkuQfwRODAJJvSXL53NPCjqrqxwxAlaV6b9mzJSe6Y5O+T3DWJsyxLkiRpJFXVL6vqw1W1K/AY4IfAPwMndhuZJM1vk47AaCvKLweWAusDK2mut94yyU+Aj1fVcbMepSRJktQjSR4O7FhVn03yM+DMqjq767gkaT6b6hKSw4DPAY8Ye411kgcAz05y16raf5bikyRJknolydto7qh3d+CzwHrAF4CduoxLkua7SQsYVfW4SdadBJw04xFJkiaV5CnA+4E7AWkfVVV36DQwSRodTwbuB5wMUFXnJ9mk25Akaf5brUk8kywEXgVsCHyyqn4zK1FJkibzAeBJVXVm14FI0oi6rqoqSQEkuX3XAUnSKFjdyTj/E/g2cATwxZkPR5I0DX+yeCFJnfpykk8BmyV5MfAd4NMdxyRJ895Uk3h+G3h3VZ3QNq0P/B4o4HazG5okaQIrknwJ+Brw11WNVXV4ZxFJ0gipqg8leRxwBc08GG+tqmM7DkuS5r2pLiF5GvDmJC8D3gy8BXgvzSUk/zLLsUmSxncH4Brg8QNtBVjAkKQhaQsWFi0kaYimmsTzcuC1Se4KvBs4H3jF2DuSSJKGp6qe33UMkjTKklxJUziGZoTyesDVTqYsSbNrqktI7ga8DLgOeA1wN+BLSf4H2K+qbpz9ECVJg5JsC/w3t9yu7wfAq6rqvO6ikqTRUVU333EkSYA9gYd0F5EkjYapJvE8hGZI8nHA56vqB1X1BOAy4JhZjk2SNL7PAkcCW7ePb7RtkqQhq8bXgCd0HYskzXdTzYFxO+BsYGNgo1WNVfW5JF+ZzcAkSRNaWFWDBYsDk+zTVTCSNGqSPGVgcR1gCfCXjsKRpJExVQHjX4B9aS4heengiqq6draCkiRN6pIkz6IZJQewFLikw3gkadQ8aeD5DTR36dtzqhclOQDYHbioqu41zvqdga/TfIAIcHhVvWMtY5WkeWOqSTx/BPxoSLFIkqbnBTRzYHyYZhK5/wWc2FOShmQtJlM+kObDwc9Nss0Pqmr3Nexfkua1qSbx/AbwKeDbVXX9mHV3BZ4H/L6qDpi1CCVJt1JVfwD26DoOSRpVSRYCLwYWM3A+XVUvmOx1VXVCksWzGpwkzWNTXULyYuDVwEeTXAqsBDagSda/Bfatqq/PaoSSJACSvK6qPpDkv7nl9n03q6pXdhCWJI2ir9PcAeo7wEzfle+hSf4POB/496o6fbyNkiwDlgFst912MxyCJPXTVJeQXAi8DnhdWy3eCrgW+HVVXTP74UmSBpzZfl3RaRSSpI2q6j9mod+Tge2r6qokuwFfA3Ycb8OqWg4sB1iyZMltitqSNB9NNQLjZlX1e5oJiiRJHaiqb7RfD1rVlmQdYOOquqKzwCRp9HwzyW5VddRMdjqYy6vqqCQfT7JFVV08k/uRpLlqna4DkCStniRfTHKHJLcHTgPOSPLaruOSpBHyKpoixl+SXJHkyiRrXUhOcuckaZ8/iOZc3btMSVJr2iMwJEm9cc+quiLJM4FvAa8HTgI+2G1YkjQaqmqTNXldkkOAnYEtkpwHvA1Yr+3zk8BTgZcluYHmsu29q8rLQySptcYFjCQ7tbdZlSQN13pJ1gP2oplM+foknuBK0pC0oySeCdylqt6ZZBGwVVX9dLLXVdXSKdbvS3ObVUnSOCa9hCTJukmWJvn3JPdq23ZP8r+YXCWpK5+kmZPo9sAJSbYHnANDkobn48BDgWe0y1cB+3UXjiSNhqlGYOwPLAJ+CnwsyfnAEuD1VfW1WY5NkjRGO2nnn6pqm4G2c4BHdxeVJI2cB1fV/ZOcAlBVf06yftdBSdJ8N1UBYwlw76q6KckGwIXA3arKyYQkqQNtPn4d8OWBtgJu6C4qSRo51ydZFyiAJAuBm7oNSZLmv6nuQnJdVd0EUFV/AX5n8UKSOved9tK+RUk2X/XoOihJGiEfA44A7pTk3cAPgfd0G5IkzX9TjcC4R5Kft88D3K1dDs2Hfvee1egkSeN5evv15QNtBdy1g1gkaeRU1cFJTgJ2oTkv3quqzuw4LEma96YqYPzdUKKQJE1bVd2l6xgkaZQl+RhwaFU5cackDdFUBYxPV9XjhxKJJGlakmwEvBrYrqqWJdkRuHtVfbPj0CRpVJwEvDnJ3WkuJTm0qlZ0HJMkzXtTzYGxcChRSJJWx2eB64CHtct/BN7VXTiSNFqq6qCq2g14IPAr4P1JftNxWJI07001AmPTJE+ZaGVVHT7D8UiSpna3qnp6kqUAVXVNknQdlCSNoB2AewDbA86BIUmzbMoCBrA7zeREYxVgAUOShu+6JBtyy+377gb8dW06TLIZ8BngXm2/L6iqH69lnJI0LyX5APBk4LfAocA7q+qyToOSpBEwVQHjD1X1gqFEIkmarrcDRwOLkhwM7AQ8by37/ChwdFU9Ncn6wEZr2Z8kzWe/BR5aVRd3HYgkjZKpChgOSZaknqmqY9rb9z2EJk+/am1OopNsCjyStghSVdfRzLEhSRrfp4FnJLlrVb0jyXbAnavqp10HJknz2VSTeD43yU5jG5Ps1A5ZliQNWZJvAI8Hjq+qb87AJ4B3AVYCn01ySpLPJLn9mH0uS7IiyYqVK1eu5e4kac7bD3gosLRdvrJtkyTNoqkKGO8Brhin/QrgIzMejSRpOj4EPAI4I8lhSZ6aZIO16G8BcH/gE1V1P+Bq4PWDG1TV8qpaUlVLFi70BlWSRt6Dq+rlwF8AqurPwPrdhiRJ899UBYwtq+oXYxvbtsWzEpEkaVJV9f2q+hfgrsCngKcBF61Fl+cB51XVie3yYTQFDUnS+K5Psi63TKa8ELip25Akaf6bqoCx2STrNpzBOCRJq6G9C8k/AS8FHggctKZ9VdWFwLlJ7t427QKcsdZBStL89THgCOBOSd4N/BB4b7chSdL8N9UkniuSvLiqPj3YmORFwEmzF5YkaSJJvgw8iOZOJPsC36+qtf3k71+Bg9s7kPwOeP5a9idJ81ZVHdxOprwLzWTKewHndBqUJI2AqQoY+wBHJHkmtxQsltBc4/fkWYxLkjSx/YGlVXXjTHVYVafS5HdJ0iSSbANsBfy8qn6Z5E4058zPA7buMDRJmvcmLWBU1Z+AhyV5NHCvtvl/qup7sx6ZJGlcVfXtJA9LspiBPF5Vn+suKkma/5LsA7wJOAu4XZKPA+8HPgc8oMPQJGkkTDUCA4CqOg44bpZjkSRNQ5LPA3cDTgVWjcIomhNoSdLsWQbcvaouTbId8Gtgp6ry0mpJGoJpFTAkSb2yBLhnVVXXgUjSiPlLVV0KUFXnJPmVxQtJGh4LGJI095wG3Bm4oOtAJGnEbJvkYwPLWw0uV9UrO4hJkkaGBQxJmnu2AM5I8lPgr6saq2qP7kKSpJHw2jHLjr6QpCGygCFJc8/buw5AkkZRVR3UdQySNMosYEjSHFNV30+yJfDAtumnVXVRlzFJkiRJs22drnacZN0kpyT5ZlcxSNJclORpwE+BfwaeBpyY5KndRiVJkiTNri5HYLwKOBO4Q4cxSNJc9CbggatGXSRZCHwHOKzTqCRJkqRZ1EkBI8m2wD8C7wZe3UUMkjSHrTPmkpFL6HBEnSSNmjF3IlnlcmBFVX192PFI0qjoagTGR4DXAZtMtEGSZcAygO222244UUnS3HB0km8Dh7TLTwe+1WE8kjRqNgDuAXylXf4n4GzgPkkeXVX7dBWYJM1nQy9gJNkduKiqTkqy80TbVdVyYDnAkiVLajjRSVL/VdVrkzwFeHjbtLyqjugyJkkaMfcGdqqqGwGSfAL4AU1e/kWXgUnSfNbFCIydgD2S7EZTvb5Dki9U1bM6iEWS5owkOwBbVtWPqupw4PC2/eFJ7lZVv+02QkkaGXcENqa5bATg9sDmVXVjkr92F5YkzW9Dv2a6qt5QVdtW1WJgb+B7Fi8kaVo+AlwxTvvl7TpJ0nB8ADg1yWeTHAicAnwwye1pJlWWJM2CLu9CIklaPVtW1W2GJlfVL5Is7iAeSRpJVbV/kqOAB7VNb6yq89vnr+0oLEma9zotYFTV8cDxXcYgSXPIZpOs23BYQUjSqEvyDeCLwJFVdXXX8UjSqPC2e5I0d6xI8uKxjUleBJzUQTySNKo+BDwCOCPJYUmemmSDroOSpPnOS0gkae7YBzgiyTO5pWCxBFgfeHJXQUnSqKmq7wPfT7Iu8BjgxcABwB06DUyS5jkLGJI0R1TVn4CHJXk0cK+2+X+q6nsdhiVJIynJhsCTgKcD9wcO6jYiSZr/LGBI0hxTVccBx3UdhySNqiRfppnA82hgX+D7VXVTt1FJ0vxnAUOSJElaPfsDS6vqRoAkD0+ytKpe3nFckjSvWcCQJEmSVkNVfTvJ/ZIsBZ4GnA0c3nFYkjTvWcCQJEmSpiHJ3wJL28fFwJeAVNWjOw1MkkaEt1GVJEmSpueXNHcd2b2qHl5V/w3cON0XJzkgyUVJTptgfZJ8LMlZSX6e5P4zFLckzQsWMCRJkqTpeQpwAXBckk8n2QXIarz+QGDXSdY/EdixfSwDPrGGcUrSvGQBQ5IkSZqGqvpaVe0N3IPmblD7AHdK8okkj5/G608ALp1kkz2Bz1XjJ8BmSbaagdAlaV6wgCFJkiSthqq6uqq+WFVPArYFTgH+Ywa63gY4d2D5vLbtNpIsS7IiyYqVK1fOwK4lqf8sYEiSJElrqKr+XFXLq2qXIe93eVUtqaolCxcuHOauJakzFjAkSZKkfvgjsGhgedu2TZKEBQxJkiSpL44EntPejeQhwOVVdUHXQUlSXyzoOgBJkiRpFCQ5BNgZ2CLJecDbgPUAquqTwFHAbsBZwDXA87uJVJL6yQKGJEmSNARVtXSK9QW8fEjhSNKc4yUkkiRJkiSp9yxgSJIkSZKk3rOAIUkCIMm6SU5J8s2uY5EkSZLGsoAhSVrlVcCZXQchSZIkjccChiSJJNsC/wh8putYJEmSpPFYwJAkAXwEeB1w03grkyxLsiLJipUrVw41MEmSJAksYEjSyEuyO3BRVZ000TZVtbyqllTVkoULFw4xOkmSJKlhAUOStBOwR5LfA4cCj0nyhW5DkiRJkm7NAoYkjbiqekNVbVtVi4G9ge9V1bM6DkuSJEm6FQsYkiRJkiSp9xZ0HYAkqT+q6njg+I7DkCRJkm7DERiSJEmSJKn3LGBIkiRJkqTes4AhSZIkSZJ6zwKGJEmSJEnqPQsYkiRJkiSp9yxgSJIkSZKk3rOAIUmSJEmSes8ChiRJkiRJ6j0LGJIkSZIkqfcsYEiSJEmSpN6zgCFJkiRJknrPAoYkSZIkSeo9CxiSJEmSJKn3LGBIkiRJkqTes4AhSZIkSZJ6zwKGJEmSJEnqPQsYkiRJkiSp9yxgSJIkSZKk3rOAIUmSJEmSes8ChiRJkiRJ6j0LGJIkSZIkqfeGXsBIsijJcUnOSHJ6klcNOwZJkiRJkjS3LOhgnzcAr6mqk5NsApyU5NiqOqODWCRJkiRJ0hww9BEYVXVBVZ3cPr8SOBPYZthxSJIkSZKkuaPTOTCSLAbuB5w4zrplSVYkWbFy5cqhxyZJkiRJkvqjswJGko2BrwL7VNUVY9dX1fKqWlJVSxYuXDj8ACVJkiRJUm90UsBIsh5N8eLgqjq8ixgkSZIkSdLc0cVdSALsD5xZVf817P1LkiRJkqS5p4sRGDsBzwYek+TU9rFbB3FIkiRJkqQ5oou7kPywqlJV966q+7aPo4YdhyRJkjRsSXZN8qskZyV5/Tjrn5dk5cAHfS/qIk5J6qMFXQcgSZIkjYIk6wL7AY8DzgN+luTIqjpjzKZfqqpXDD1ASeq5Tm+jKkmSJI2QBwFnVdXvquo64FBgz45jkqQ5wwKGJEmSNBzbAOcOLJ/Xto31T0l+nuSwJIvG6yjJsiQrkqxYuXLlbMQqSb1jAUOSJEnqj28Ai6vq3sCxwEHjbVRVy6tqSVUtWbhw4VADlKSuWMCQJEmShuOPwOCIim3btptV1SVV9dd28TPAA4YUmyT1ngUMSRpxSRYlOS7JGUlOT/KqrmOSpHnqZ8COSe6SZH1gb+DIwQ2SbDWwuAdw5hDjk6Re8y4kkqQbgNdU1clJNgFOSnLsOLPiS5LWQlXdkOQVwLeBdYEDqur0JO8AVlTVkcArk+xBk5svBZ7XWcCS1DMWMCRpxFXVBcAF7fMrk5xJM6mcBQxJmmFVdRRw1Ji2tw48fwPwhmHHJUlzgZeQSJJulmQxcD/gxDHtznYvSZKkTlnAkCQBkGRj4KvAPlV1xeA6Z7uXJElS1yxgSJJIsh5N8eLgqjq863gkSZKksSxgSNKISxJgf+DMqvqvruORJEmSxmMBQ5K0E/Bs4DFJTm0fu3UdlCRJkjTIu5BI0oirqh8C6ToOSZIkaTKOwJAkSZIkSb1nAUOSJEmSJPWeBQxJkiRJktR7FjAkSZIkSVLvWcCQJEmSJEm9ZwFDkiRJkiT1ngUMSZIkSZLUexYwJEmSJElS71nAkCRJkiRJvWcBQ5IkSZIk9Z4FDEmSJEmS1HsWMCRJkiRJUu9ZwJAkSZIkSb1nAUOSJEmSJPWeBQxJkiRJktR7FjAkSZIkSVLvWcCQJEmSJEm9ZwFDkiRJkiT1ngUMSZIkSZLUexYwJEmSJElS71nAkCRJkiRJvWcBQ5IkSZIk9Z4FDEmSJEmS1HsWMCRJkiRJUu9ZwJAkSZIkSb1nAUOSJEmSJPWeBQxJkiRJktR7FjAkSZIkSVLvWcCQJEmSJEm9ZwFDkiRJkiT1ngUMSZIkSZLUexYwJEmSJElS71nAkCRJkiRJvWcBQ5IkSZIk9Z4FDEmSJEmS1HudFDCS7JrkV0nOSvL6LmKQJN3CvCxJwzFVvk1yuyRfatefmGRxB2FKUi8NvYCRZF1gP+CJwD2BpUnuOew4JEkN87IkDcc08+0LgT9X1Q7Ah4H3DzdKSeqvLkZgPAg4q6p+V1XXAYcCe3YQhySpYV6WpOGYTr7dEziofX4YsEuSDDFGSeqtBR3scxvg3IHl84AHj90oyTJgWbt4VZJfDSG2+WQL4OKugxi2LH9r1yGMotH8XVv6vrXtYvuZiGOGTJmXzckzYjT/VszLXRjN37W1y8vDysnTOQ++eZuquiHJ5cDfMOZnal5ea6P5d2JO7sJo/q7N0rlyFwWMaamq5cDyruOYq5KsqKolXceh+c/ftdFgTl57/q1oWPxdGw3m5bXj34mGxd+1mdXFJSR/BBYNLG/btkmSumFelqThmE6+vXmbJAuATYFLhhKdJPVcFwWMnwE7JrlLkvWBvYEjO4hDktQwL0vScEwn3x4JPLd9/lTge1VVQ4xRknpr6JeQtNfyvQL4NrAucEBVnT7sOEaAQwo1LP6uzXHm5aHxb0XD4u9aT02Ub5O8A1hRVUcC+wOfT3IWcClNkUMzz78TDYu/azMoFnQlSZIkSVLfdXEJiSRJkiRJ0mqxgCFJkiRJknrPAsY8k+TGJKcm+b8kJyd5WNcxaf5KsleSSnKPrmOR+sicrGEyJ0tTMy9rmMzLM88CxvxzbVXdt6ruA7wBeG/XAWleWwr8sP0q6bbMyRomc7I0NfOyhsm8PMMsYMxvdwD+3HUQmp+SbAw8HHghzpAuTYc5WbPGnCytEfOyZo15eXYM/TaqmnUbJjkV2ADYCnhMt+FoHtsTOLqqfp3kkiQPqKqTug5K6hlzsobFnCxNj3lZw2JengWOwJh/Vg2LuwewK/C5JOk6KM1LS4FD2+eH4tA4aTzmZA2LOVmaHvOyhsW8PAtSVV3HoBmU5Kqq2nhg+U/AP1TVRR2GpXkmyebAecBKoIB126/bl0lFupk5WcNgTpamz7ysYTAvzx5HYMxj7Wy36wKXdB2L5p2nAp+vqu2ranFVLQLOBh7RcVxSb5mTNYvMydIaMC9rFpmXZ4lzYMw/q67rAwjw3Kq6scN4ND8tBd4/pu2rbfsJww9H6i1zsobBnCxNn3lZw2BeniVeQiJJkiRJknrPS0gkSZIkSVLvWcCQJEmSJEm9ZwFDkiRJkiT1ngUMSZIkSZLUexYwJEmSJElS71nAkIAkRyXZbA1fu1eSe85wSJI00szLktQf5mT1hQUMjbQ01qmq3arqsjXsZi/ApCxJM8C8LEn9YU5W31jA0LyQ5H1JXj6w/PYkb07y3SQnJ/lFkj3bdYuT/CrJ54DTgEVJfp9ki3b915KclOT0JMsG+rwqybuT/F+SnyTZMsnDgD2ADyY5NcndhnvkktRP5mVJ6g9zsuaLVFXXMUhrLcn9gI9U1aPa5TOAJwCXV9UVbcL9CbAjsD3wO+BhVfWTdvvfA0uq6uIkm1fVpUk2BH4GPKqqLklSwB5V9Y0kHwCuqKp3JTkQ+GZVHTbco5ak/jIvS1J/mJM1XyzoOgBpJlTVKUnulGRrYCHwZ+BC4MNJHgncBGwDbNm+5A+rEvI4Xpnkye3zRTSJ/BLgOuCbbftJwONm/kgkaX4wL0tSf5iTNV9YwNB88hXgqcCdgS8Bz6RJ0A+oquvbyvEG7bZXj9dBkp2BxwIPraprkhw/8Jrr65YhSzfi348kTcW8LEn9YU7WnOcvleaTLwGfBrYAHgU8DbioTciPphkON5VNgT+3CfkewEOm8ZorgU3WMGZJms/My5LUH+ZkzXlO4ql5o6pOp0mOf6yqC4CDgSVJfgE8B/jlNLo5GliQ5EzgfTTXAk7lUOC1SU5xYiJJuoV5WZL6w5ys+cBJPCVJkiRJUu85AkOSJEmSJPWeBQxJkiRJktR7FjAkSZIkSVLvWcCQJEmSJEm9ZwFDkiRJkiT1ngUMSZIkSZLUexYwJEmSJElS7/1/ZiqAmSUPP8QAAAAASUVORK5CYII=\n",
       "datasetInfos": [],
       "metadata": {},
       "removedWidgets": [],
       "type": "image"
      }
     },
     "output_type": "display_data"
    },
    {
     "output_type": "stream",
     "name": "stdout",
     "output_type": "stream",
     "text": [
      "CTR p-value: 0.0000 -> Significant\nConversion p-value: 0.1565 -> Not Significant\nRevenue p-value: 0.0000 -> Significant\n"
     ]
    }
   ],
   "source": [
    "import pandas as pd\n",
    "from scipy.stats import chi2_contingency, ttest_ind\n",
    "import matplotlib.pyplot as plt\n",
    "import seaborn as sns\n",
    "\n",
    "# Pull aggregated metrics from Spark\n",
    "metrics_df = spark.sql(\"\"\"\n",
    "SELECT\n",
    "    variant,\n",
    "    SUM(impressions) AS impressions,\n",
    "    SUM(clicks) AS clicks,\n",
    "    SUM(orders) AS orders,\n",
    "    SUM(revenue) AS revenue,\n",
    "    COUNT(*) AS users\n",
    "FROM ab_test_clean\n",
    "GROUP BY variant\n",
    "\"\"\").toPandas()\n",
    "\n",
    "# Compute rates\n",
    "metrics_df[\"CTR (%)\"] = metrics_df[\"clicks\"] / metrics_df[\"impressions\"] * 100\n",
    "metrics_df[\"Conversion (%)\"] = metrics_df[\"orders\"] / metrics_df[\"clicks\"] * 100\n",
    "metrics_df[\"Avg Revenue/User\"] = metrics_df[\"revenue\"] / metrics_df[\"users\"]\n",
    "\n",
    "# --- Visualization ---\n",
    "fig, axes = plt.subplots(1, 3, figsize=(15,5))\n",
    "sns.barplot(x=\"variant\", y=\"CTR (%)\", data=metrics_df, ax=axes[0], palette=\"viridis\")\n",
    "axes[0].set_title(\"CTR Comparison\")\n",
    "\n",
    "sns.barplot(x=\"variant\", y=\"Conversion (%)\", data=metrics_df, ax=axes[1], palette=\"viridis\")\n",
    "axes[1].set_title(\"Conversion Rate Comparison\")\n",
    "\n",
    "sns.barplot(x=\"variant\", y=\"Avg Revenue/User\", data=metrics_df, ax=axes[2], palette=\"viridis\")\n",
    "axes[2].set_title(\"Avg Revenue per User\")\n",
    "\n",
    "plt.tight_layout()\n",
    "plt.show()\n",
    "\n",
    "# --- Statistical tests ---\n",
    "\n",
    "# 1) CTR significance (Chi-square)\n",
    "ctr_table = [\n",
    "    [metrics_df.loc[metrics_df.variant==\"A\", \"clicks\"].values[0],\n",
    "     metrics_df.loc[metrics_df.variant==\"A\", \"impressions\"].values[0] - metrics_df.loc[metrics_df.variant==\"A\", \"clicks\"].values[0]],\n",
    "    [metrics_df.loc[metrics_df.variant==\"B\", \"clicks\"].values[0],\n",
    "     metrics_df.loc[metrics_df.variant==\"B\", \"impressions\"].values[0] - metrics_df.loc[metrics_df.variant==\"B\", \"clicks\"].values[0]]\n",
    "]\n",
    "chi2, p_ctr, _, _ = chi2_contingency(ctr_table)\n",
    "\n",
    "# 2) Conversion significance (Chi-square)\n",
    "conv_table = [\n",
    "    [metrics_df.loc[metrics_df.variant==\"A\", \"orders\"].values[0],\n",
    "     metrics_df.loc[metrics_df.variant==\"A\", \"clicks\"].values[0] - metrics_df.loc[metrics_df.variant==\"A\", \"orders\"].values[0]],\n",
    "    [metrics_df.loc[metrics_df.variant==\"B\", \"orders\"].values[0],\n",
    "     metrics_df.loc[metrics_df.variant==\"B\", \"clicks\"].values[0] - metrics_df.loc[metrics_df.variant==\"B\", \"orders\"].values[0]]\n",
    "]\n",
    "chi2_conv, p_conv, _, _ = chi2_contingency(conv_table)\n",
    "\n",
    "# 3) Revenue significance (t-test) — needs user-level data in real life\n",
    "# Here we'll just simulate by assuming equal distribution per user\n",
    "rev_A = [metrics_df.loc[metrics_df.variant==\"A\", \"revenue\"].values[0] / metrics_df.loc[metrics_df.variant==\"A\", \"users\"].values[0]] * int(metrics_df.loc[metrics_df.variant==\"A\", \"users\"].values[0])\n",
    "rev_B = [metrics_df.loc[metrics_df.variant==\"B\", \"revenue\"].values[0] / metrics_df.loc[metrics_df.variant==\"B\", \"users\"].values[0]] * int(metrics_df.loc[metrics_df.variant==\"B\", \"users\"].values[0])\n",
    "t_stat, p_rev = ttest_ind(rev_A, rev_B)\n",
    "\n",
    "# --- Results ---\n",
    "print(f\"CTR p-value: {p_ctr:.4f} -> {'Significant' if p_ctr < 0.05 else 'Not Significant'}\")\n",
    "print(f\"Conversion p-value: {p_conv:.4f} -> {'Significant' if p_conv < 0.05 else 'Not Significant'}\")\n",
    "print(f\"Revenue p-value: {p_rev:.4f} -> {'Significant' if p_rev < 0.05 else 'Not Significant'}\")\n"
   ]
  }
 ],
 "metadata": {
  "application/vnd.databricks.v1+notebook": {
   "computePreferences": null,
   "dashboards": [],
   "environmentMetadata": null,
   "inputWidgetPreferences": null,
   "language": "python",
   "notebookMetadata": {
    "mostRecentlyExecutedCommandWithImplicitDF": {
     "commandId": 146624735368505,
     "dataframes": [
      "_sqldf"
     ]
    },
    "pythonIndentUnit": 4
   },
   "notebookName": "ab-testing-eda-sql",
   "widgets": {}
  }
 },
 "nbformat": 4,
 "nbformat_minor": 0
}